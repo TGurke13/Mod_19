{
  "cells": [
    {
      "cell_type": "markdown",
      "metadata": {
        "id": "alIIEHibGc3M"
      },
      "source": [
        "## Part 1: Preprocessing"
      ]
    },
    {
      "cell_type": "code",
      "execution_count": 162,
      "metadata": {
        "colab": {
          "base_uri": "https://localhost:8080/",
          "height": 325
        },
        "id": "6eDUJ4NtGc3P",
        "outputId": "2480098c-135c-4cbf-9552-018494ee8ff5"
      },
      "outputs": [
        {
          "data": {
            "text/html": [
              "<div>\n",
              "<style scoped>\n",
              "    .dataframe tbody tr th:only-of-type {\n",
              "        vertical-align: middle;\n",
              "    }\n",
              "\n",
              "    .dataframe tbody tr th {\n",
              "        vertical-align: top;\n",
              "    }\n",
              "\n",
              "    .dataframe thead th {\n",
              "        text-align: right;\n",
              "    }\n",
              "</style>\n",
              "<table border=\"1\" class=\"dataframe\">\n",
              "  <thead>\n",
              "    <tr style=\"text-align: right;\">\n",
              "      <th></th>\n",
              "      <th>Age</th>\n",
              "      <th>Attrition</th>\n",
              "      <th>BusinessTravel</th>\n",
              "      <th>Department</th>\n",
              "      <th>DistanceFromHome</th>\n",
              "      <th>Education</th>\n",
              "      <th>EducationField</th>\n",
              "      <th>EnvironmentSatisfaction</th>\n",
              "      <th>HourlyRate</th>\n",
              "      <th>JobInvolvement</th>\n",
              "      <th>...</th>\n",
              "      <th>PerformanceRating</th>\n",
              "      <th>RelationshipSatisfaction</th>\n",
              "      <th>StockOptionLevel</th>\n",
              "      <th>TotalWorkingYears</th>\n",
              "      <th>TrainingTimesLastYear</th>\n",
              "      <th>WorkLifeBalance</th>\n",
              "      <th>YearsAtCompany</th>\n",
              "      <th>YearsInCurrentRole</th>\n",
              "      <th>YearsSinceLastPromotion</th>\n",
              "      <th>YearsWithCurrManager</th>\n",
              "    </tr>\n",
              "  </thead>\n",
              "  <tbody>\n",
              "    <tr>\n",
              "      <th>0</th>\n",
              "      <td>41</td>\n",
              "      <td>Yes</td>\n",
              "      <td>Travel_Rarely</td>\n",
              "      <td>Sales</td>\n",
              "      <td>1</td>\n",
              "      <td>2</td>\n",
              "      <td>Life Sciences</td>\n",
              "      <td>2</td>\n",
              "      <td>94</td>\n",
              "      <td>3</td>\n",
              "      <td>...</td>\n",
              "      <td>3</td>\n",
              "      <td>1</td>\n",
              "      <td>0</td>\n",
              "      <td>8</td>\n",
              "      <td>0</td>\n",
              "      <td>1</td>\n",
              "      <td>6</td>\n",
              "      <td>4</td>\n",
              "      <td>0</td>\n",
              "      <td>5</td>\n",
              "    </tr>\n",
              "    <tr>\n",
              "      <th>1</th>\n",
              "      <td>49</td>\n",
              "      <td>No</td>\n",
              "      <td>Travel_Frequently</td>\n",
              "      <td>Research &amp; Development</td>\n",
              "      <td>8</td>\n",
              "      <td>1</td>\n",
              "      <td>Life Sciences</td>\n",
              "      <td>3</td>\n",
              "      <td>61</td>\n",
              "      <td>2</td>\n",
              "      <td>...</td>\n",
              "      <td>4</td>\n",
              "      <td>4</td>\n",
              "      <td>1</td>\n",
              "      <td>10</td>\n",
              "      <td>3</td>\n",
              "      <td>3</td>\n",
              "      <td>10</td>\n",
              "      <td>7</td>\n",
              "      <td>1</td>\n",
              "      <td>7</td>\n",
              "    </tr>\n",
              "    <tr>\n",
              "      <th>2</th>\n",
              "      <td>37</td>\n",
              "      <td>Yes</td>\n",
              "      <td>Travel_Rarely</td>\n",
              "      <td>Research &amp; Development</td>\n",
              "      <td>2</td>\n",
              "      <td>2</td>\n",
              "      <td>Other</td>\n",
              "      <td>4</td>\n",
              "      <td>92</td>\n",
              "      <td>2</td>\n",
              "      <td>...</td>\n",
              "      <td>3</td>\n",
              "      <td>2</td>\n",
              "      <td>0</td>\n",
              "      <td>7</td>\n",
              "      <td>3</td>\n",
              "      <td>3</td>\n",
              "      <td>0</td>\n",
              "      <td>0</td>\n",
              "      <td>0</td>\n",
              "      <td>0</td>\n",
              "    </tr>\n",
              "    <tr>\n",
              "      <th>3</th>\n",
              "      <td>33</td>\n",
              "      <td>No</td>\n",
              "      <td>Travel_Frequently</td>\n",
              "      <td>Research &amp; Development</td>\n",
              "      <td>3</td>\n",
              "      <td>4</td>\n",
              "      <td>Life Sciences</td>\n",
              "      <td>4</td>\n",
              "      <td>56</td>\n",
              "      <td>3</td>\n",
              "      <td>...</td>\n",
              "      <td>3</td>\n",
              "      <td>3</td>\n",
              "      <td>0</td>\n",
              "      <td>8</td>\n",
              "      <td>3</td>\n",
              "      <td>3</td>\n",
              "      <td>8</td>\n",
              "      <td>7</td>\n",
              "      <td>3</td>\n",
              "      <td>0</td>\n",
              "    </tr>\n",
              "    <tr>\n",
              "      <th>4</th>\n",
              "      <td>27</td>\n",
              "      <td>No</td>\n",
              "      <td>Travel_Rarely</td>\n",
              "      <td>Research &amp; Development</td>\n",
              "      <td>2</td>\n",
              "      <td>1</td>\n",
              "      <td>Medical</td>\n",
              "      <td>1</td>\n",
              "      <td>40</td>\n",
              "      <td>3</td>\n",
              "      <td>...</td>\n",
              "      <td>3</td>\n",
              "      <td>4</td>\n",
              "      <td>1</td>\n",
              "      <td>6</td>\n",
              "      <td>3</td>\n",
              "      <td>3</td>\n",
              "      <td>2</td>\n",
              "      <td>2</td>\n",
              "      <td>2</td>\n",
              "      <td>2</td>\n",
              "    </tr>\n",
              "  </tbody>\n",
              "</table>\n",
              "<p>5 rows × 27 columns</p>\n",
              "</div>"
            ],
            "text/plain": [
              "   Age Attrition     BusinessTravel              Department  DistanceFromHome  \\\n",
              "0   41       Yes      Travel_Rarely                   Sales                 1   \n",
              "1   49        No  Travel_Frequently  Research & Development                 8   \n",
              "2   37       Yes      Travel_Rarely  Research & Development                 2   \n",
              "3   33        No  Travel_Frequently  Research & Development                 3   \n",
              "4   27        No      Travel_Rarely  Research & Development                 2   \n",
              "\n",
              "   Education EducationField  EnvironmentSatisfaction  HourlyRate  \\\n",
              "0          2  Life Sciences                        2          94   \n",
              "1          1  Life Sciences                        3          61   \n",
              "2          2          Other                        4          92   \n",
              "3          4  Life Sciences                        4          56   \n",
              "4          1        Medical                        1          40   \n",
              "\n",
              "   JobInvolvement  ...  PerformanceRating RelationshipSatisfaction  \\\n",
              "0               3  ...                  3                        1   \n",
              "1               2  ...                  4                        4   \n",
              "2               2  ...                  3                        2   \n",
              "3               3  ...                  3                        3   \n",
              "4               3  ...                  3                        4   \n",
              "\n",
              "   StockOptionLevel TotalWorkingYears  TrainingTimesLastYear WorkLifeBalance  \\\n",
              "0                 0                 8                      0               1   \n",
              "1                 1                10                      3               3   \n",
              "2                 0                 7                      3               3   \n",
              "3                 0                 8                      3               3   \n",
              "4                 1                 6                      3               3   \n",
              "\n",
              "   YearsAtCompany  YearsInCurrentRole  YearsSinceLastPromotion  \\\n",
              "0               6                   4                        0   \n",
              "1              10                   7                        1   \n",
              "2               0                   0                        0   \n",
              "3               8                   7                        3   \n",
              "4               2                   2                        2   \n",
              "\n",
              "   YearsWithCurrManager  \n",
              "0                     5  \n",
              "1                     7  \n",
              "2                     0  \n",
              "3                     0  \n",
              "4                     2  \n",
              "\n",
              "[5 rows x 27 columns]"
            ]
          },
          "execution_count": 162,
          "metadata": {},
          "output_type": "execute_result"
        }
      ],
      "source": [
        "# Import our dependencies\n",
        "from sklearn.model_selection import train_test_split\n",
        "from sklearn.preprocessing import StandardScaler\n",
        "import pandas as pd\n",
        "import numpy as np\n",
        "from tensorflow.keras.models import Model\n",
        "from tensorflow.keras import layers\n",
        "import tensorflow as tf\n",
        "\n",
        "#  Import and read the attrition data\n",
        "attrition_df = pd.read_csv('https://static.bc-edx.com/ai/ail-v-1-0/m19/lms/datasets/attrition.csv')\n",
        "attrition_df.head()"
      ]
    },
    {
      "cell_type": "code",
      "execution_count": 163,
      "metadata": {
        "colab": {
          "base_uri": "https://localhost:8080/"
        },
        "id": "g22aQSY4Gc3Q",
        "outputId": "1f5c13c1-b981-4e40-a7ed-dd3fe6f1b81e"
      },
      "outputs": [
        {
          "data": {
            "text/plain": [
              "Age                         43\n",
              "Attrition                    2\n",
              "BusinessTravel               3\n",
              "Department                   3\n",
              "DistanceFromHome            29\n",
              "Education                    5\n",
              "EducationField               6\n",
              "EnvironmentSatisfaction      4\n",
              "HourlyRate                  71\n",
              "JobInvolvement               4\n",
              "JobLevel                     5\n",
              "JobRole                      9\n",
              "JobSatisfaction              4\n",
              "MaritalStatus                3\n",
              "NumCompaniesWorked          10\n",
              "OverTime                     2\n",
              "PercentSalaryHike           15\n",
              "PerformanceRating            2\n",
              "RelationshipSatisfaction     4\n",
              "StockOptionLevel             4\n",
              "TotalWorkingYears           40\n",
              "TrainingTimesLastYear        7\n",
              "WorkLifeBalance              4\n",
              "YearsAtCompany              37\n",
              "YearsInCurrentRole          19\n",
              "YearsSinceLastPromotion     16\n",
              "YearsWithCurrManager        18\n",
              "dtype: int64"
            ]
          },
          "execution_count": 163,
          "metadata": {},
          "output_type": "execute_result"
        }
      ],
      "source": [
        "# Determine the number of unique values in each column.\n",
        "attrition_df.nunique()"
      ]
    },
    {
      "cell_type": "code",
      "execution_count": 164,
      "metadata": {
        "id": "50vMgBEnJbfM"
      },
      "outputs": [],
      "source": [
        "# Create y_df with the Attrition and Department columns\n",
        "y_df = attrition_df[['Attrition', 'Department']]\n",
        "\n"
      ]
    },
    {
      "cell_type": "code",
      "execution_count": 165,
      "metadata": {
        "colab": {
          "base_uri": "https://localhost:8080/"
        },
        "id": "Virka0zLGc3R",
        "outputId": "dd5aee3a-9458-4ba6-e857-1b234de40915"
      },
      "outputs": [
        {
          "data": {
            "text/plain": [
              "Age                        int64\n",
              "DistanceFromHome           int64\n",
              "HourlyRate                 int64\n",
              "NumCompaniesWorked         int64\n",
              "PercentSalaryHike          int64\n",
              "TotalWorkingYears          int64\n",
              "YearsAtCompany             int64\n",
              "YearsInCurrentRole         int64\n",
              "YearsSinceLastPromotion    int64\n",
              "YearsWithCurrManager       int64\n",
              "dtype: object"
            ]
          },
          "execution_count": 165,
          "metadata": {},
          "output_type": "execute_result"
        }
      ],
      "source": [
        "# Create a list of at least 10 column names to use as X data\n",
        "X = ['Age', 'DistanceFromHome', 'HourlyRate', 'NumCompaniesWorked',\n",
        "     'PercentSalaryHike', 'TotalWorkingYears', 'YearsAtCompany',\n",
        "     'YearsInCurrentRole', 'YearsSinceLastPromotion', 'YearsWithCurrManager']\n",
        "\n",
        "\n",
        "# Create X_df using your selected columns\n",
        "X_df = attrition_df[X]\n",
        "\n",
        "# Show the data types for X_df\n",
        "X_df.dtypes\n"
      ]
    },
    {
      "cell_type": "code",
      "execution_count": 166,
      "metadata": {
        "id": "KaJfdOGUMHMR"
      },
      "outputs": [],
      "source": [
        "# Split the data into training and testing sets\n",
        "from sklearn.model_selection import train_test_split\n",
        "X_train, X_test, y_train, y_test = train_test_split(X_df, y_df, random_state=13)\n"
      ]
    },
    {
      "cell_type": "code",
      "execution_count": 167,
      "metadata": {
        "colab": {
          "base_uri": "https://localhost:8080/"
        },
        "id": "NYubUJqiLCSp",
        "outputId": "53f31721-571c-4c94-d13e-25a715749593"
      },
      "outputs": [
        {
          "name": "stdout",
          "output_type": "stream",
          "text": [
            "(1102, 10) (368, 10)\n"
          ]
        }
      ],
      "source": [
        "# Convert your X data to numeric data types however you see fit\n",
        "# Add new code cells as necessary\n",
        "X_train = X_train.astype('float32')\n",
        "X_test = X_test.astype('float32')\n",
        "print(X_train.shape, X_test.shape)"
      ]
    },
    {
      "cell_type": "code",
      "execution_count": 168,
      "metadata": {
        "id": "EWA-aIA5Gc3T"
      },
      "outputs": [],
      "source": [
        "# Create a StandardScaler\n",
        "scaler = StandardScaler()\n",
        "\n",
        "# Fit the StandardScaler to the training data\n",
        "X_scaler = scaler.fit(X_train)\n",
        "\n",
        "# Scale the training and testing data\n",
        "X_train_scaled = X_scaler.transform(X_train)\n",
        "X_test_scaled = X_scaler.transform(X_test)\n"
      ]
    },
    {
      "cell_type": "code",
      "execution_count": 169,
      "metadata": {
        "colab": {
          "base_uri": "https://localhost:8080/"
        },
        "id": "-z0Mky8vQSz4",
        "outputId": "debefc85-c20b-48f5-f4d9-91eadd65d36a"
      },
      "outputs": [],
      "source": [
        "# Create a OneHotEncoder for the Department column\n",
        "from sklearn.preprocessing import OneHotEncoder\n",
        "\n",
        "y_encoder = OneHotEncoder()\n",
        "\n",
        "# Fit the encoder to the training data\n",
        "y_encoded_dept = y_encoder.fit_transform(y_df[['Department']])\n",
        "\n",
        "# Create two new variables by applying the encoder\n",
        "# to the training and testing data\n",
        "y_train_encoded_dept = y_encoder.transform(y_train[['Department']])\n",
        "y_test_encoded_dept = y_encoder.transform(y_test[['Department']])\n",
        "\n"
      ]
    },
    {
      "cell_type": "code",
      "execution_count": 170,
      "metadata": {
        "colab": {
          "base_uri": "https://localhost:8080/"
        },
        "id": "-G4DSpvFRrk4",
        "outputId": "9842e948-8a55-4b80-8fac-f96714e85589"
      },
      "outputs": [],
      "source": [
        "# Create a OneHotEncoder for the Attrition column\n",
        "y_encoder_att = OneHotEncoder()\n",
        "\n",
        "\n",
        "# Fit the encoder to the training data\n",
        "y_encoded_att = y_encoder_att.fit_transform(y_df[['Attrition']])\n",
        "\n",
        "# Create two new variables by applying the encoder\n",
        "# to the training and testing data\n",
        "y_train_encoded_att = y_encoder_att.transform(y_train[['Attrition']])\n",
        "y_test_encoded_att = y_encoder_att.transform(y_test[['Attrition']])\n"
      ]
    },
    {
      "cell_type": "code",
      "execution_count": 171,
      "metadata": {},
      "outputs": [
        {
          "name": "stdout",
          "output_type": "stream",
          "text": [
            "(1102, 10)\n",
            "(368, 10)\n",
            "(1102, 3)\n",
            "(368, 3)\n",
            "(1102, 2)\n",
            "(368, 2)\n"
          ]
        }
      ],
      "source": [
        "# Print all the shapes\n",
        "print(X_train_scaled.shape)\n",
        "print(X_test_scaled.shape)\n",
        "print(y_train_encoded_dept.shape)\n",
        "print(y_test_encoded_dept.shape)\n",
        "print(y_train_encoded_att.shape)\n",
        "print(y_test_encoded_att.shape)\n"
      ]
    },
    {
      "cell_type": "markdown",
      "metadata": {
        "id": "ykNmu_WWGc3T"
      },
      "source": [
        "## Create, Compile, and Train the Model"
      ]
    },
    {
      "cell_type": "code",
      "execution_count": 172,
      "metadata": {
        "id": "WUptZqmSGc3T"
      },
      "outputs": [],
      "source": [
        "# Find the number of columns in the X training data\n",
        "X_col_len = len(X_df.columns)\n",
        "\n",
        "# Create the input layer\n",
        "input_layer = layers.Input(X_col_len, name='input')\n",
        "\n",
        "# Create at least two shared layers\n",
        "shared_layer1 = layers.Dense(units=8, activation='relu')(input_layer)\n",
        "shared_layer2 = layers.Dense(units=4, activation='relu')(shared_layer1)\n"
      ]
    },
    {
      "cell_type": "code",
      "execution_count": 173,
      "metadata": {
        "id": "JukjTm2yTEqd"
      },
      "outputs": [],
      "source": [
        "# Create a branch for Department\n",
        "# with a hidden layer and an output layer\n",
        "department_dense = layers.Dense(X_col_len, activation='relu')(shared_layer1)\n",
        "department_output = layers.Dense(2, activation='softmax', name='department_output')(department_dense)\n",
        "\n",
        "# Create the hidden layer\n",
        "dept_hid = layers.Dense(8, activation='relu')(department_output)\n",
        "\n",
        "# Create the output layer\n",
        "dept_out = layers.Dense(3, activation='softmax', name='dept_out')(dept_hid)\n"
      ]
    },
    {
      "cell_type": "code",
      "execution_count": 174,
      "metadata": {
        "id": "9OqhUiOJUBkR"
      },
      "outputs": [],
      "source": [
        "# Create a branch for Attrition\n",
        "# with a hidden layer and an output layer\n",
        "att_dense = layers.Dense(X_col_len, activation='relu')(shared_layer1)\n",
        "att_output = layers.Dense(2, activation='softmax', name='att_output')(att_dense)\n",
        "\n",
        "# Create the hidden layer\n",
        "att_hid = layers.Dense(8, activation='relu')(att_output)\n",
        "\n",
        "# Create the output layer\n",
        "att_out = layers.Dense(2, activation='softmax', name='att_out')(att_hid)\n"
      ]
    },
    {
      "cell_type": "code",
      "execution_count": 175,
      "metadata": {
        "colab": {
          "base_uri": "https://localhost:8080/"
        },
        "id": "twmuejdxGc3T",
        "outputId": "25096308-b68b-42e4-e4ea-ae82e97c435a"
      },
      "outputs": [
        {
          "name": "stdout",
          "output_type": "stream",
          "text": [
            "Model: \"model_8\"\n",
            "__________________________________________________________________________________________________\n",
            " Layer (type)                Output Shape                 Param #   Connected to                  \n",
            "==================================================================================================\n",
            " input (InputLayer)          [(None, 10)]                 0         []                            \n",
            "                                                                                                  \n",
            " dense_50 (Dense)            (None, 8)                    88        ['input[0][0]']               \n",
            "                                                                                                  \n",
            " dense_52 (Dense)            (None, 10)                   90        ['dense_50[0][0]']            \n",
            "                                                                                                  \n",
            " dense_54 (Dense)            (None, 10)                   90        ['dense_50[0][0]']            \n",
            "                                                                                                  \n",
            " department_output (Dense)   (None, 2)                    22        ['dense_52[0][0]']            \n",
            "                                                                                                  \n",
            " att_output (Dense)          (None, 2)                    22        ['dense_54[0][0]']            \n",
            "                                                                                                  \n",
            " dense_53 (Dense)            (None, 8)                    24        ['department_output[0][0]']   \n",
            "                                                                                                  \n",
            " dense_55 (Dense)            (None, 8)                    24        ['att_output[0][0]']          \n",
            "                                                                                                  \n",
            " dept_out (Dense)            (None, 3)                    27        ['dense_53[0][0]']            \n",
            "                                                                                                  \n",
            " att_out (Dense)             (None, 2)                    18        ['dense_55[0][0]']            \n",
            "                                                                                                  \n",
            "==================================================================================================\n",
            "Total params: 405 (1.58 KB)\n",
            "Trainable params: 405 (1.58 KB)\n",
            "Non-trainable params: 0 (0.00 Byte)\n",
            "__________________________________________________________________________________________________\n"
          ]
        }
      ],
      "source": [
        "# Create the model\n",
        "model = Model(inputs=input_layer, outputs=[dept_out, att_out])\n",
        "\n",
        "# Compile the model\n",
        "model.compile(optimizer='adam', \n",
        "              loss='binary_crossentropy',\n",
        "              metrics=['accuracy'])\n",
        "\n",
        "# Summarize the model\n",
        "model.summary()"
      ]
    },
    {
      "cell_type": "code",
      "execution_count": 176,
      "metadata": {
        "colab": {
          "base_uri": "https://localhost:8080/"
        },
        "id": "c8oGy0dpGc3U",
        "outputId": "cc667d43-28cf-42d4-d719-c2bc02888d30"
      },
      "outputs": [
        {
          "name": "stdout",
          "output_type": "stream",
          "text": [
            "Epoch 1/100\n"
          ]
        },
        {
          "name": "stdout",
          "output_type": "stream",
          "text": [
            "35/35 [==============================] - 1s 857us/step - loss: 1.3870 - dept_out_loss: 0.7115 - att_out_loss: 0.6755 - dept_out_accuracy: 0.3158 - att_out_accuracy: 0.7686\n",
            "Epoch 2/100\n",
            "35/35 [==============================] - 0s 792us/step - loss: 1.2862 - dept_out_loss: 0.6392 - att_out_loss: 0.6471 - dept_out_accuracy: 0.3258 - att_out_accuracy: 0.8376\n",
            "Epoch 3/100\n",
            "35/35 [==============================] - 0s 779us/step - loss: 1.2020 - dept_out_loss: 0.5885 - att_out_loss: 0.6134 - dept_out_accuracy: 0.5762 - att_out_accuracy: 0.8376\n",
            "Epoch 4/100\n",
            "35/35 [==============================] - 0s 801us/step - loss: 1.1331 - dept_out_loss: 0.5559 - att_out_loss: 0.5772 - dept_out_accuracy: 0.6343 - att_out_accuracy: 0.8376\n",
            "Epoch 5/100\n",
            "35/35 [==============================] - 0s 819us/step - loss: 1.0784 - dept_out_loss: 0.5341 - att_out_loss: 0.5443 - dept_out_accuracy: 0.6343 - att_out_accuracy: 0.8376\n",
            "Epoch 6/100\n",
            "35/35 [==============================] - 0s 796us/step - loss: 1.0352 - dept_out_loss: 0.5189 - att_out_loss: 0.5163 - dept_out_accuracy: 0.6343 - att_out_accuracy: 0.8376\n",
            "Epoch 7/100\n",
            "35/35 [==============================] - 0s 822us/step - loss: 1.0032 - dept_out_loss: 0.5096 - att_out_loss: 0.4937 - dept_out_accuracy: 0.6343 - att_out_accuracy: 0.8376\n",
            "Epoch 8/100\n",
            "35/35 [==============================] - 0s 780us/step - loss: 0.9793 - dept_out_loss: 0.5038 - att_out_loss: 0.4755 - dept_out_accuracy: 0.6343 - att_out_accuracy: 0.8376\n",
            "Epoch 9/100\n",
            "35/35 [==============================] - 0s 803us/step - loss: 0.9630 - dept_out_loss: 0.5002 - att_out_loss: 0.4628 - dept_out_accuracy: 0.6343 - att_out_accuracy: 0.8376\n",
            "Epoch 10/100\n",
            "35/35 [==============================] - 0s 800us/step - loss: 0.9521 - dept_out_loss: 0.4979 - att_out_loss: 0.4541 - dept_out_accuracy: 0.6343 - att_out_accuracy: 0.8376\n",
            "Epoch 11/100\n",
            "35/35 [==============================] - 0s 786us/step - loss: 0.9451 - dept_out_loss: 0.4964 - att_out_loss: 0.4487 - dept_out_accuracy: 0.6343 - att_out_accuracy: 0.8376\n",
            "Epoch 12/100\n",
            "35/35 [==============================] - 0s 791us/step - loss: 0.9401 - dept_out_loss: 0.4955 - att_out_loss: 0.4446 - dept_out_accuracy: 0.6343 - att_out_accuracy: 0.8376\n",
            "Epoch 13/100\n",
            "35/35 [==============================] - 0s 797us/step - loss: 0.9364 - dept_out_loss: 0.4947 - att_out_loss: 0.4417 - dept_out_accuracy: 0.6343 - att_out_accuracy: 0.8376\n",
            "Epoch 14/100\n",
            "35/35 [==============================] - 0s 830us/step - loss: 0.9336 - dept_out_loss: 0.4943 - att_out_loss: 0.4393 - dept_out_accuracy: 0.6343 - att_out_accuracy: 0.8376\n",
            "Epoch 15/100\n",
            "35/35 [==============================] - 0s 801us/step - loss: 0.9312 - dept_out_loss: 0.4940 - att_out_loss: 0.4372 - dept_out_accuracy: 0.6343 - att_out_accuracy: 0.8376\n",
            "Epoch 16/100\n",
            "35/35 [==============================] - 0s 773us/step - loss: 0.9284 - dept_out_loss: 0.4938 - att_out_loss: 0.4346 - dept_out_accuracy: 0.6343 - att_out_accuracy: 0.8376\n",
            "Epoch 17/100\n",
            "35/35 [==============================] - 0s 809us/step - loss: 0.9249 - dept_out_loss: 0.4936 - att_out_loss: 0.4313 - dept_out_accuracy: 0.6343 - att_out_accuracy: 0.8376\n",
            "Epoch 18/100\n",
            "35/35 [==============================] - 0s 768us/step - loss: 0.9214 - dept_out_loss: 0.4934 - att_out_loss: 0.4280 - dept_out_accuracy: 0.6343 - att_out_accuracy: 0.8376\n",
            "Epoch 19/100\n",
            "35/35 [==============================] - 0s 787us/step - loss: 0.9174 - dept_out_loss: 0.4933 - att_out_loss: 0.4241 - dept_out_accuracy: 0.6343 - att_out_accuracy: 0.8376\n",
            "Epoch 20/100\n",
            "35/35 [==============================] - 0s 771us/step - loss: 0.9139 - dept_out_loss: 0.4933 - att_out_loss: 0.4205 - dept_out_accuracy: 0.6343 - att_out_accuracy: 0.8376\n",
            "Epoch 21/100\n",
            "35/35 [==============================] - 0s 791us/step - loss: 0.9101 - dept_out_loss: 0.4932 - att_out_loss: 0.4169 - dept_out_accuracy: 0.6343 - att_out_accuracy: 0.8376\n",
            "Epoch 22/100\n",
            "35/35 [==============================] - 0s 762us/step - loss: 0.9069 - dept_out_loss: 0.4934 - att_out_loss: 0.4136 - dept_out_accuracy: 0.6343 - att_out_accuracy: 0.8376\n",
            "Epoch 23/100\n",
            "35/35 [==============================] - 0s 800us/step - loss: 0.9042 - dept_out_loss: 0.4931 - att_out_loss: 0.4111 - dept_out_accuracy: 0.6343 - att_out_accuracy: 0.8376\n",
            "Epoch 24/100\n",
            "35/35 [==============================] - 0s 783us/step - loss: 0.9018 - dept_out_loss: 0.4931 - att_out_loss: 0.4086 - dept_out_accuracy: 0.6343 - att_out_accuracy: 0.8376\n",
            "Epoch 25/100\n",
            "35/35 [==============================] - 0s 792us/step - loss: 0.9006 - dept_out_loss: 0.4933 - att_out_loss: 0.4073 - dept_out_accuracy: 0.6343 - att_out_accuracy: 0.8376\n",
            "Epoch 26/100\n",
            "35/35 [==============================] - 0s 779us/step - loss: 0.8990 - dept_out_loss: 0.4933 - att_out_loss: 0.4057 - dept_out_accuracy: 0.6343 - att_out_accuracy: 0.8376\n",
            "Epoch 27/100\n",
            "35/35 [==============================] - 0s 811us/step - loss: 0.8976 - dept_out_loss: 0.4931 - att_out_loss: 0.4045 - dept_out_accuracy: 0.6343 - att_out_accuracy: 0.8376\n",
            "Epoch 28/100\n",
            "35/35 [==============================] - 0s 783us/step - loss: 0.8953 - dept_out_loss: 0.4931 - att_out_loss: 0.4022 - dept_out_accuracy: 0.6343 - att_out_accuracy: 0.8376\n",
            "Epoch 29/100\n",
            "35/35 [==============================] - 0s 862us/step - loss: 0.8943 - dept_out_loss: 0.4931 - att_out_loss: 0.4012 - dept_out_accuracy: 0.6343 - att_out_accuracy: 0.8376\n",
            "Epoch 30/100\n",
            "35/35 [==============================] - 0s 781us/step - loss: 0.8932 - dept_out_loss: 0.4931 - att_out_loss: 0.4001 - dept_out_accuracy: 0.6343 - att_out_accuracy: 0.8376\n",
            "Epoch 31/100\n",
            "35/35 [==============================] - 0s 790us/step - loss: 0.8921 - dept_out_loss: 0.4931 - att_out_loss: 0.3991 - dept_out_accuracy: 0.6343 - att_out_accuracy: 0.8376\n",
            "Epoch 32/100\n",
            "35/35 [==============================] - 0s 795us/step - loss: 0.8912 - dept_out_loss: 0.4930 - att_out_loss: 0.3982 - dept_out_accuracy: 0.6343 - att_out_accuracy: 0.8376\n",
            "Epoch 33/100\n",
            "35/35 [==============================] - 0s 794us/step - loss: 0.8898 - dept_out_loss: 0.4931 - att_out_loss: 0.3967 - dept_out_accuracy: 0.6343 - att_out_accuracy: 0.8376\n",
            "Epoch 34/100\n",
            "35/35 [==============================] - 0s 816us/step - loss: 0.8895 - dept_out_loss: 0.4930 - att_out_loss: 0.3964 - dept_out_accuracy: 0.6343 - att_out_accuracy: 0.8376\n",
            "Epoch 35/100\n",
            "35/35 [==============================] - 0s 790us/step - loss: 0.8882 - dept_out_loss: 0.4930 - att_out_loss: 0.3952 - dept_out_accuracy: 0.6343 - att_out_accuracy: 0.8376\n",
            "Epoch 36/100\n",
            "35/35 [==============================] - 0s 802us/step - loss: 0.8882 - dept_out_loss: 0.4932 - att_out_loss: 0.3951 - dept_out_accuracy: 0.6343 - att_out_accuracy: 0.8376\n",
            "Epoch 37/100\n",
            "35/35 [==============================] - 0s 823us/step - loss: 0.8864 - dept_out_loss: 0.4931 - att_out_loss: 0.3934 - dept_out_accuracy: 0.6343 - att_out_accuracy: 0.8376\n",
            "Epoch 38/100\n",
            "35/35 [==============================] - 0s 793us/step - loss: 0.8851 - dept_out_loss: 0.4930 - att_out_loss: 0.3921 - dept_out_accuracy: 0.6343 - att_out_accuracy: 0.8376\n",
            "Epoch 39/100\n",
            "35/35 [==============================] - 0s 787us/step - loss: 0.8847 - dept_out_loss: 0.4930 - att_out_loss: 0.3917 - dept_out_accuracy: 0.6343 - att_out_accuracy: 0.8376\n",
            "Epoch 40/100\n",
            "35/35 [==============================] - 0s 780us/step - loss: 0.8844 - dept_out_loss: 0.4930 - att_out_loss: 0.3914 - dept_out_accuracy: 0.6343 - att_out_accuracy: 0.8376\n",
            "Epoch 41/100\n",
            "35/35 [==============================] - 0s 831us/step - loss: 0.8836 - dept_out_loss: 0.4930 - att_out_loss: 0.3906 - dept_out_accuracy: 0.6343 - att_out_accuracy: 0.8376\n",
            "Epoch 42/100\n",
            "35/35 [==============================] - 0s 799us/step - loss: 0.8828 - dept_out_loss: 0.4930 - att_out_loss: 0.3898 - dept_out_accuracy: 0.6343 - att_out_accuracy: 0.8376\n",
            "Epoch 43/100\n",
            "35/35 [==============================] - 0s 795us/step - loss: 0.8823 - dept_out_loss: 0.4930 - att_out_loss: 0.3894 - dept_out_accuracy: 0.6343 - att_out_accuracy: 0.8376\n",
            "Epoch 44/100\n",
            "35/35 [==============================] - 0s 796us/step - loss: 0.8819 - dept_out_loss: 0.4929 - att_out_loss: 0.3889 - dept_out_accuracy: 0.6343 - att_out_accuracy: 0.8403\n",
            "Epoch 45/100\n",
            "35/35 [==============================] - 0s 780us/step - loss: 0.8819 - dept_out_loss: 0.4929 - att_out_loss: 0.3890 - dept_out_accuracy: 0.6343 - att_out_accuracy: 0.8376\n",
            "Epoch 46/100\n",
            "35/35 [==============================] - 0s 811us/step - loss: 0.8813 - dept_out_loss: 0.4929 - att_out_loss: 0.3884 - dept_out_accuracy: 0.6343 - att_out_accuracy: 0.8412\n",
            "Epoch 47/100\n",
            "35/35 [==============================] - 0s 820us/step - loss: 0.8812 - dept_out_loss: 0.4930 - att_out_loss: 0.3882 - dept_out_accuracy: 0.6343 - att_out_accuracy: 0.8394\n",
            "Epoch 48/100\n",
            "35/35 [==============================] - 0s 764us/step - loss: 0.8810 - dept_out_loss: 0.4929 - att_out_loss: 0.3880 - dept_out_accuracy: 0.6343 - att_out_accuracy: 0.8412\n",
            "Epoch 49/100\n",
            "35/35 [==============================] - 0s 812us/step - loss: 0.8804 - dept_out_loss: 0.4930 - att_out_loss: 0.3874 - dept_out_accuracy: 0.6343 - att_out_accuracy: 0.8421\n",
            "Epoch 50/100\n",
            "35/35 [==============================] - 0s 783us/step - loss: 0.8795 - dept_out_loss: 0.4929 - att_out_loss: 0.3866 - dept_out_accuracy: 0.6343 - att_out_accuracy: 0.8385\n",
            "Epoch 51/100\n",
            "35/35 [==============================] - 0s 796us/step - loss: 0.8792 - dept_out_loss: 0.4930 - att_out_loss: 0.3862 - dept_out_accuracy: 0.6343 - att_out_accuracy: 0.8412\n",
            "Epoch 52/100\n",
            "35/35 [==============================] - 0s 795us/step - loss: 0.8793 - dept_out_loss: 0.4929 - att_out_loss: 0.3864 - dept_out_accuracy: 0.6343 - att_out_accuracy: 0.8421\n",
            "Epoch 53/100\n",
            "35/35 [==============================] - 0s 793us/step - loss: 0.8786 - dept_out_loss: 0.4930 - att_out_loss: 0.3856 - dept_out_accuracy: 0.6343 - att_out_accuracy: 0.8403\n",
            "Epoch 54/100\n",
            "35/35 [==============================] - 0s 795us/step - loss: 0.8779 - dept_out_loss: 0.4930 - att_out_loss: 0.3849 - dept_out_accuracy: 0.6343 - att_out_accuracy: 0.8439\n",
            "Epoch 55/100\n",
            "35/35 [==============================] - 0s 807us/step - loss: 0.8776 - dept_out_loss: 0.4929 - att_out_loss: 0.3848 - dept_out_accuracy: 0.6343 - att_out_accuracy: 0.8448\n",
            "Epoch 56/100\n",
            "35/35 [==============================] - 0s 827us/step - loss: 0.8773 - dept_out_loss: 0.4929 - att_out_loss: 0.3844 - dept_out_accuracy: 0.6343 - att_out_accuracy: 0.8475\n",
            "Epoch 57/100\n",
            "35/35 [==============================] - 0s 784us/step - loss: 0.8767 - dept_out_loss: 0.4930 - att_out_loss: 0.3837 - dept_out_accuracy: 0.6343 - att_out_accuracy: 0.8430\n",
            "Epoch 58/100\n",
            "35/35 [==============================] - 0s 819us/step - loss: 0.8766 - dept_out_loss: 0.4929 - att_out_loss: 0.3837 - dept_out_accuracy: 0.6343 - att_out_accuracy: 0.8448\n",
            "Epoch 59/100\n",
            "35/35 [==============================] - 0s 804us/step - loss: 0.8757 - dept_out_loss: 0.4929 - att_out_loss: 0.3828 - dept_out_accuracy: 0.6343 - att_out_accuracy: 0.8430\n",
            "Epoch 60/100\n",
            "35/35 [==============================] - 0s 827us/step - loss: 0.8756 - dept_out_loss: 0.4930 - att_out_loss: 0.3826 - dept_out_accuracy: 0.6343 - att_out_accuracy: 0.8457\n",
            "Epoch 61/100\n",
            "35/35 [==============================] - 0s 810us/step - loss: 0.8751 - dept_out_loss: 0.4930 - att_out_loss: 0.3821 - dept_out_accuracy: 0.6343 - att_out_accuracy: 0.8430\n",
            "Epoch 62/100\n",
            "35/35 [==============================] - 0s 777us/step - loss: 0.8746 - dept_out_loss: 0.4929 - att_out_loss: 0.3818 - dept_out_accuracy: 0.6343 - att_out_accuracy: 0.8457\n",
            "Epoch 63/100\n",
            "35/35 [==============================] - 0s 780us/step - loss: 0.8744 - dept_out_loss: 0.4929 - att_out_loss: 0.3815 - dept_out_accuracy: 0.6343 - att_out_accuracy: 0.8448\n",
            "Epoch 64/100\n",
            "35/35 [==============================] - 0s 810us/step - loss: 0.8740 - dept_out_loss: 0.4930 - att_out_loss: 0.3810 - dept_out_accuracy: 0.6343 - att_out_accuracy: 0.8457\n",
            "Epoch 65/100\n",
            "35/35 [==============================] - 0s 776us/step - loss: 0.8733 - dept_out_loss: 0.4930 - att_out_loss: 0.3803 - dept_out_accuracy: 0.6343 - att_out_accuracy: 0.8457\n",
            "Epoch 66/100\n",
            "35/35 [==============================] - 0s 792us/step - loss: 0.8733 - dept_out_loss: 0.4931 - att_out_loss: 0.3802 - dept_out_accuracy: 0.6343 - att_out_accuracy: 0.8457\n",
            "Epoch 67/100\n",
            "35/35 [==============================] - 0s 804us/step - loss: 0.8731 - dept_out_loss: 0.4929 - att_out_loss: 0.3802 - dept_out_accuracy: 0.6343 - att_out_accuracy: 0.8475\n",
            "Epoch 68/100\n",
            "35/35 [==============================] - 0s 827us/step - loss: 0.8723 - dept_out_loss: 0.4928 - att_out_loss: 0.3795 - dept_out_accuracy: 0.6343 - att_out_accuracy: 0.8466\n",
            "Epoch 69/100\n",
            "35/35 [==============================] - 0s 813us/step - loss: 0.8721 - dept_out_loss: 0.4928 - att_out_loss: 0.3793 - dept_out_accuracy: 0.6343 - att_out_accuracy: 0.8466\n",
            "Epoch 70/100\n",
            "35/35 [==============================] - 0s 823us/step - loss: 0.8723 - dept_out_loss: 0.4928 - att_out_loss: 0.3795 - dept_out_accuracy: 0.6343 - att_out_accuracy: 0.8457\n",
            "Epoch 71/100\n",
            "35/35 [==============================] - 0s 799us/step - loss: 0.8716 - dept_out_loss: 0.4928 - att_out_loss: 0.3788 - dept_out_accuracy: 0.6343 - att_out_accuracy: 0.8457\n",
            "Epoch 72/100\n",
            "35/35 [==============================] - 0s 805us/step - loss: 0.8711 - dept_out_loss: 0.4929 - att_out_loss: 0.3782 - dept_out_accuracy: 0.6343 - att_out_accuracy: 0.8475\n",
            "Epoch 73/100\n",
            "35/35 [==============================] - 0s 812us/step - loss: 0.8708 - dept_out_loss: 0.4928 - att_out_loss: 0.3781 - dept_out_accuracy: 0.6343 - att_out_accuracy: 0.8457\n",
            "Epoch 74/100\n",
            "35/35 [==============================] - 0s 802us/step - loss: 0.8701 - dept_out_loss: 0.4928 - att_out_loss: 0.3773 - dept_out_accuracy: 0.6343 - att_out_accuracy: 0.8466\n",
            "Epoch 75/100\n",
            "35/35 [==============================] - 0s 824us/step - loss: 0.8712 - dept_out_loss: 0.4928 - att_out_loss: 0.3784 - dept_out_accuracy: 0.6343 - att_out_accuracy: 0.8503\n",
            "Epoch 76/100\n",
            "35/35 [==============================] - 0s 824us/step - loss: 0.8700 - dept_out_loss: 0.4928 - att_out_loss: 0.3772 - dept_out_accuracy: 0.6343 - att_out_accuracy: 0.8485\n",
            "Epoch 77/100\n",
            "35/35 [==============================] - 0s 797us/step - loss: 0.8691 - dept_out_loss: 0.4927 - att_out_loss: 0.3765 - dept_out_accuracy: 0.6343 - att_out_accuracy: 0.8457\n",
            "Epoch 78/100\n",
            "35/35 [==============================] - 0s 841us/step - loss: 0.8689 - dept_out_loss: 0.4926 - att_out_loss: 0.3762 - dept_out_accuracy: 0.6343 - att_out_accuracy: 0.8439\n",
            "Epoch 79/100\n",
            "35/35 [==============================] - 0s 838us/step - loss: 0.8682 - dept_out_loss: 0.4927 - att_out_loss: 0.3755 - dept_out_accuracy: 0.6343 - att_out_accuracy: 0.8466\n",
            "Epoch 80/100\n",
            "35/35 [==============================] - 0s 808us/step - loss: 0.8683 - dept_out_loss: 0.4926 - att_out_loss: 0.3757 - dept_out_accuracy: 0.6343 - att_out_accuracy: 0.8503\n",
            "Epoch 81/100\n",
            "35/35 [==============================] - 0s 787us/step - loss: 0.8684 - dept_out_loss: 0.4925 - att_out_loss: 0.3758 - dept_out_accuracy: 0.6343 - att_out_accuracy: 0.8485\n",
            "Epoch 82/100\n",
            "35/35 [==============================] - 0s 797us/step - loss: 0.8673 - dept_out_loss: 0.4925 - att_out_loss: 0.3748 - dept_out_accuracy: 0.6343 - att_out_accuracy: 0.8485\n",
            "Epoch 83/100\n",
            "35/35 [==============================] - 0s 819us/step - loss: 0.8669 - dept_out_loss: 0.4925 - att_out_loss: 0.3744 - dept_out_accuracy: 0.6343 - att_out_accuracy: 0.8448\n",
            "Epoch 84/100\n",
            "35/35 [==============================] - 0s 823us/step - loss: 0.8675 - dept_out_loss: 0.4925 - att_out_loss: 0.3750 - dept_out_accuracy: 0.6343 - att_out_accuracy: 0.8503\n",
            "Epoch 85/100\n",
            "35/35 [==============================] - 0s 761us/step - loss: 0.8671 - dept_out_loss: 0.4926 - att_out_loss: 0.3745 - dept_out_accuracy: 0.6343 - att_out_accuracy: 0.8466\n",
            "Epoch 86/100\n",
            "35/35 [==============================] - 0s 780us/step - loss: 0.8668 - dept_out_loss: 0.4926 - att_out_loss: 0.3742 - dept_out_accuracy: 0.6343 - att_out_accuracy: 0.8475\n",
            "Epoch 87/100\n",
            "35/35 [==============================] - 0s 803us/step - loss: 0.8661 - dept_out_loss: 0.4923 - att_out_loss: 0.3738 - dept_out_accuracy: 0.6343 - att_out_accuracy: 0.8457\n",
            "Epoch 88/100\n",
            "35/35 [==============================] - 0s 810us/step - loss: 0.8656 - dept_out_loss: 0.4921 - att_out_loss: 0.3735 - dept_out_accuracy: 0.6343 - att_out_accuracy: 0.8485\n",
            "Epoch 89/100\n",
            "35/35 [==============================] - 0s 824us/step - loss: 0.8657 - dept_out_loss: 0.4920 - att_out_loss: 0.3736 - dept_out_accuracy: 0.6343 - att_out_accuracy: 0.8475\n",
            "Epoch 90/100\n",
            "35/35 [==============================] - 0s 793us/step - loss: 0.8660 - dept_out_loss: 0.4921 - att_out_loss: 0.3738 - dept_out_accuracy: 0.6343 - att_out_accuracy: 0.8475\n",
            "Epoch 91/100\n",
            "35/35 [==============================] - 0s 804us/step - loss: 0.8663 - dept_out_loss: 0.4919 - att_out_loss: 0.3744 - dept_out_accuracy: 0.6343 - att_out_accuracy: 0.8512\n",
            "Epoch 92/100\n",
            "35/35 [==============================] - 0s 796us/step - loss: 0.8660 - dept_out_loss: 0.4919 - att_out_loss: 0.3741 - dept_out_accuracy: 0.6343 - att_out_accuracy: 0.8485\n",
            "Epoch 93/100\n",
            "35/35 [==============================] - 0s 797us/step - loss: 0.8643 - dept_out_loss: 0.4920 - att_out_loss: 0.3724 - dept_out_accuracy: 0.6343 - att_out_accuracy: 0.8466\n",
            "Epoch 94/100\n",
            "35/35 [==============================] - 0s 798us/step - loss: 0.8644 - dept_out_loss: 0.4919 - att_out_loss: 0.3725 - dept_out_accuracy: 0.6343 - att_out_accuracy: 0.8494\n",
            "Epoch 95/100\n",
            "35/35 [==============================] - 0s 766us/step - loss: 0.8633 - dept_out_loss: 0.4918 - att_out_loss: 0.3714 - dept_out_accuracy: 0.6343 - att_out_accuracy: 0.8503\n",
            "Epoch 96/100\n",
            "35/35 [==============================] - 0s 803us/step - loss: 0.8644 - dept_out_loss: 0.4917 - att_out_loss: 0.3727 - dept_out_accuracy: 0.6343 - att_out_accuracy: 0.8494\n",
            "Epoch 97/100\n",
            "35/35 [==============================] - 0s 798us/step - loss: 0.8635 - dept_out_loss: 0.4917 - att_out_loss: 0.3717 - dept_out_accuracy: 0.6343 - att_out_accuracy: 0.8475\n",
            "Epoch 98/100\n",
            "35/35 [==============================] - 0s 809us/step - loss: 0.8632 - dept_out_loss: 0.4916 - att_out_loss: 0.3717 - dept_out_accuracy: 0.6343 - att_out_accuracy: 0.8494\n",
            "Epoch 99/100\n",
            "35/35 [==============================] - 0s 804us/step - loss: 0.8629 - dept_out_loss: 0.4920 - att_out_loss: 0.3709 - dept_out_accuracy: 0.6343 - att_out_accuracy: 0.8475\n",
            "Epoch 100/100\n",
            "35/35 [==============================] - 0s 800us/step - loss: 0.8618 - dept_out_loss: 0.4914 - att_out_loss: 0.3704 - dept_out_accuracy: 0.6343 - att_out_accuracy: 0.8485\n"
          ]
        },
        {
          "data": {
            "text/plain": [
              "<keras.src.engine.functional.Functional at 0x18aa6319db0>"
            ]
          },
          "execution_count": 176,
          "metadata": {},
          "output_type": "execute_result"
        }
      ],
      "source": [
        "# Train the model\n",
        "def train(model, X_train_scaled, y_train_encoded_dept, y_train_encoded_att):\n",
        "    y_train_encoded_dept = y_train_encoded_dept.toarray()\n",
        "    y_train_encoded_att = y_train_encoded_att.toarray()\n",
        "    model.fit(X_train_scaled, {'dept_out': y_train_encoded_dept, 'att_out': y_train_encoded_att}, epochs=100)\n",
        "    return model\n",
        "train(model, X_train_scaled, y_train_encoded_dept, y_train_encoded_att)\n"
      ]
    },
    {
      "cell_type": "code",
      "execution_count": 179,
      "metadata": {
        "colab": {
          "base_uri": "https://localhost:8080/"
        },
        "id": "VsMoaQlgGc3U",
        "outputId": "1bd4e601-e964-4abc-ad83-aeecf6b696be"
      },
      "outputs": [
        {
          "name": "stdout",
          "output_type": "stream",
          "text": [
            "12/12 [==============================] - 0s 819us/step - loss: 0.8568 - dept_out_loss: 0.4377 - att_out_loss: 0.4190 - dept_out_accuracy: 0.7120 - att_out_accuracy: 0.8288\n"
          ]
        },
        {
          "data": {
            "text/plain": [
              "[0.8567848205566406,\n",
              " 0.4377400875091553,\n",
              " 0.4190447926521301,\n",
              " 0.7119565010070801,\n",
              " 0.8288043737411499]"
            ]
          },
          "execution_count": 179,
          "metadata": {},
          "output_type": "execute_result"
        }
      ],
      "source": [
        "# Evaluate the model with the testing data\n",
        "model.evaluate(X_test_scaled, {'dept_out': y_test_encoded_dept.toarray(), 'att_out': y_test_encoded_att.toarray()})"
      ]
    },
    {
      "cell_type": "code",
      "execution_count": 178,
      "metadata": {
        "colab": {
          "base_uri": "https://localhost:8080/"
        },
        "id": "ZlCtlHi0Vt54",
        "outputId": "bc21ef3e-80c2-4b38-9c29-79515bc23dec"
      },
      "outputs": [
        {
          "name": "stdout",
          "output_type": "stream",
          "text": [
            "12/12 [==============================] - 0s 956us/step - loss: 0.8568 - dept_out_loss: 0.4377 - att_out_loss: 0.4190 - dept_out_accuracy: 0.7120 - att_out_accuracy: 0.8288\n",
            "Department Accuracy: 0.7119565010070801\n",
            "Attrition Accuracy: 0.8288043737411499\n"
          ]
        }
      ],
      "source": [
        "# Print the accuracy for both department and attrition\n",
        "dept_acc, att_acc = model.evaluate(X_test_scaled, {'dept_out': y_test_encoded_dept.toarray(), 'att_out': y_test_encoded_att.toarray()})[3:]\n",
        "print(f\"Department Accuracy: {dept_acc}\")\n",
        "print(f\"Attrition Accuracy: {att_acc}\")"
      ]
    },
    {
      "cell_type": "code",
      "execution_count": 181,
      "metadata": {},
      "outputs": [
        {
          "name": "stdout",
          "output_type": "stream",
          "text": [
            "Department\n",
            "Research & Development    961\n",
            "Sales                     446\n",
            "Human Resources            63\n",
            "Name: count, dtype: int64 Attrition\n",
            "No     1233\n",
            "Yes     237\n",
            "Name: count, dtype: int64\n"
          ]
        }
      ],
      "source": [
        "print(y_df['Department'].value_counts(),\n",
        "y_df['Attrition'].value_counts())"
      ]
    },
    {
      "cell_type": "markdown",
      "metadata": {
        "id": "eGSyfsZfWOQM"
      },
      "source": [
        "# Summary\n",
        "\n",
        "In the provided space below, briefly answer the following questions.\n",
        "\n",
        "1. Is accuracy the best metric to use on this data? Why or why not?\n",
        "\n",
        "2. What activation functions did you choose for your output layers, and why?\n",
        "\n",
        "3. Can you name a few ways that this model might be improved?"
      ]
    },
    {
      "cell_type": "markdown",
      "metadata": {
        "id": "pi9SLpFnWvbF"
      },
      "source": [
        "YOUR ANSWERS HERE\n",
        "\n",
        "1. Yes because both classes are the same size.\n",
        "2. I chose softmax because I had a better accuracy as opposed to sigmoid, but that\n",
        "makes sense as this is not binary classification like I first thought.\n",
        "3. -Less diverse data within departments, and attrition\n",
        "   \n",
        "   "
      ]
    },
    {
      "cell_type": "markdown",
      "metadata": {},
      "source": []
    }
  ],
  "metadata": {
    "colab": {
      "provenance": []
    },
    "kernelspec": {
      "display_name": "Python 3",
      "language": "python",
      "name": "python3"
    },
    "language_info": {
      "codemirror_mode": {
        "name": "ipython",
        "version": 3
      },
      "file_extension": ".py",
      "mimetype": "text/x-python",
      "name": "python",
      "nbconvert_exporter": "python",
      "pygments_lexer": "ipython3",
      "version": "3.10.13"
    },
    "vscode": {
      "interpreter": {
        "hash": "31f2aee4e71d21fbe5cf8b01ff0e069b9275f58929596ceb00d14d90e3e16cd6"
      }
    }
  },
  "nbformat": 4,
  "nbformat_minor": 0
}
